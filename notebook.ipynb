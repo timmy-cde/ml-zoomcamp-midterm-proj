{
 "cells": [
  {
   "cell_type": "markdown",
   "id": "f649c0f2-b2dd-480a-b99f-253c165eadee",
   "metadata": {},
   "source": [
    "# Philippine Cities Temperature Prediction"
   ]
  },
  {
   "cell_type": "markdown",
   "id": "51b704bd-2919-494c-9aa2-390f28e21ed7",
   "metadata": {},
   "source": [
    "This will predict hourly temperature for 135 Philippine cities. The data set is from 2020 to 2024.\n",
    "\n",
    "Due to file size, I stored the datasets in google drive as a backup.\n",
    "\n",
    "Original Source:\n",
    "- [Philippine Cities Weather Data (2024)](https://www.kaggle.com/datasets/bwandowando/philippine-cities-weather-data-ytd-2024)\n",
    "- [Philippine Cities Weather Data (2020-2023)](https://www.kaggle.com/datasets/bwandowando/philippine-cities-weather-data-2020-2023)\n",
    "\n",
    "Google Drive Links:\n",
    "- [Philippine Cities Weather Data (2024)](https://drive.google.com/file/d/10wxJ3x6NKIGQCL5xpngcgbja6M7hvqJf/view?usp=drive_link)\n",
    "- [Philippine Cities Weather Data (2020-2023)](https://drive.google.com/file/d/1cwdqQC3Idr7rfCS2AMbROv3be0eZ0SIB/view?usp=drive_link)"
   ]
  },
  {
   "cell_type": "code",
   "execution_count": 1,
   "id": "76e0638b-4190-4c93-b6fe-88210695fce2",
   "metadata": {},
   "outputs": [],
   "source": [
    "import pandas as pd\n",
    "import numpy as np\n",
    "\n",
    "import seaborn as sns\n",
    "from matplotlib import  pyplot as plt"
   ]
  },
  {
   "cell_type": "code",
   "execution_count": 2,
   "id": "62cf12a2",
   "metadata": {},
   "outputs": [
    {
     "name": "stdout",
     "output_type": "stream",
     "text": [
      "  % Total    % Received % Xferd  Average Speed   Time    Time     Time  Current\n",
      "                                 Dload  Upload   Total   Spent    Left  Speed\n",
      "  0     0    0     0    0     0      0      0 --:--:-- --:--:-- --:--:--     0\n",
      "100 54.3M  100 54.3M    0     0  96.3M      0 --:--:-- --:--:-- --:--:-- 96.3M\n",
      "  % Total    % Received % Xferd  Average Speed   Time    Time     Time  Current\n",
      "                                 Dload  Upload   Total   Spent    Left  Speed\n",
      "  0     0    0     0    0     0      0      0 --:--:-- --:--:-- --:--:--     0\n",
      "100  273M  100  273M    0     0   179M      0  0:00:01  0:00:01 --:--:--  220M\n"
     ]
    }
   ],
   "source": [
    "!curl -L -o './data/Philippine_Cities_Weather_Data_(2024).zip' 'https://www.kaggle.com/api/v1/datasets/download/bwandowando/philippine-cities-weather-data-ytd-2024'\n",
    "\n",
    "!curl -L -o './data/Philippine_Cities_Weather_Data_(2020-2023).zip' 'https://www.kaggle.com/api/v1/datasets/download/bwandowando/philippine-cities-weather-data-2020-2023'"
   ]
  },
  {
   "cell_type": "code",
   "execution_count": null,
   "id": "562e40bd",
   "metadata": {},
   "outputs": [
    {
     "name": "stdout",
     "output_type": "stream",
     "text": [
      "Archive:  ./data/Philippine_Cities_Weather_Data_(2024).zip\n",
      "  inflating: ./data/2024/cities.csv  \n",
      "  inflating: ./data/2024/daily_data_combined_2024.csv  \n",
      "  inflating: ./data/2024/daily_units_2024.csv  \n",
      "  inflating: ./data/2024/hourly_data_combined_2024.csv  \n",
      "  inflating: ./data/2024/hourly_units_2024.csv  \n",
      "Archive:  ./data/Philippine_Cities_Weather_Data_(2020-2023).zip\n",
      "  inflating: ./data/2020-2023/cities.csv  \n",
      "  inflating: ./data/2020-2023/daily_data_combined_2020_to_2023.csv  \n",
      "  inflating: ./data/2020-2023/daily_units_2020_to_2023.csv  \n",
      "  inflating: ./data/2020-2023/hour_units_2020_to_2023.csv  \n",
      "  inflating: ./data/2020-2023/hourly_data_combined_2020_to_2023.csv  \n"
     ]
    }
   ],
   "source": [
    "!mkdir data\n",
    "!mkdir data/2024\n",
    "!mkdir data/2020-2023\n",
    "\n",
    "!unzip './data/Philippine_Cities_Weather_Data_(2024).zip' -d './data/2024'\n",
    "!unzip './data/Philippine_Cities_Weather_Data_(2020-2023).zip' -d './data/2020-2023'"
   ]
  },
  {
   "cell_type": "code",
   "execution_count": 4,
   "id": "96a75b49-8d3c-4a25-bdb8-b73bd5030b17",
   "metadata": {},
   "outputs": [],
   "source": [
    "df_hourly_2020_2023 = pd.read_csv('data/2020-2023/hourly_data_combined_2020_to_2023.csv')\n",
    "df_hourly_2024 = pd.read_csv('data/2024/hourly_data_combined_2024.csv')"
   ]
  },
  {
   "cell_type": "code",
   "execution_count": 5,
   "id": "a76cf114-0989-41ed-a8a6-a6e427c52e2b",
   "metadata": {},
   "outputs": [
    {
     "name": "stdout",
     "output_type": "stream",
     "text": [
      "<class 'pandas.core.frame.DataFrame'>\n",
      "RangeIndex: 4944024 entries, 0 to 4944023\n",
      "Data columns (total 44 columns):\n",
      " #   Column                            Dtype  \n",
      "---  ------                            -----  \n",
      " 0   city_name                         object \n",
      " 1   datetime                          object \n",
      " 2   temperature_2m                    float64\n",
      " 3   relative_humidity_2m              float64\n",
      " 4   dew_point_2m                      float64\n",
      " 5   apparent_temperature              float64\n",
      " 6   precipitation                     float64\n",
      " 7   rain                              float64\n",
      " 8   snowfall                          float64\n",
      " 9   snow_depth                        float64\n",
      " 10  weather_code                      float64\n",
      " 11  pressure_msl                      float64\n",
      " 12  surface_pressure                  float64\n",
      " 13  cloud_cover                       float64\n",
      " 14  cloud_cover_low                   float64\n",
      " 15  cloud_cover_mid                   float64\n",
      " 16  cloud_cover_high                  float64\n",
      " 17  et0_fao_evapotranspiration        float64\n",
      " 18  vapour_pressure_deficit           float64\n",
      " 19  wind_speed_10m                    float64\n",
      " 20  wind_speed_100m                   float64\n",
      " 21  wind_direction_10m                float64\n",
      " 22  wind_direction_100m               float64\n",
      " 23  wind_gusts_10m                    float64\n",
      " 24  soil_temperature_0_to_7cm         float64\n",
      " 25  soil_temperature_7_to_28cm        float64\n",
      " 26  soil_temperature_28_to_100cm      float64\n",
      " 27  soil_temperature_100_to_255cm     float64\n",
      " 28  soil_moisture_0_to_7cm            float64\n",
      " 29  soil_moisture_7_to_28cm           float64\n",
      " 30  soil_moisture_28_to_100cm         float64\n",
      " 31  soil_moisture_100_to_255cm        float64\n",
      " 32  shortwave_radiation               float64\n",
      " 33  direct_radiation                  float64\n",
      " 34  diffuse_radiation                 float64\n",
      " 35  direct_normal_irradiance          float64\n",
      " 36  global_tilted_irradiance          float64\n",
      " 37  terrestrial_radiation             float64\n",
      " 38  shortwave_radiation_instant       float64\n",
      " 39  direct_radiation_instant          float64\n",
      " 40  diffuse_radiation_instant         float64\n",
      " 41  direct_normal_irradiance_instant  float64\n",
      " 42  global_tilted_irradiance_instant  float64\n",
      " 43  terrestrial_radiation_instant     float64\n",
      "dtypes: float64(42), object(2)\n",
      "memory usage: 1.6+ GB\n"
     ]
    }
   ],
   "source": [
    "df_hourly_2020_2023.info()"
   ]
  },
  {
   "cell_type": "code",
   "execution_count": 6,
   "id": "55605b44-716b-45e1-9a2d-3ef61ecec66e",
   "metadata": {},
   "outputs": [
    {
     "name": "stdout",
     "output_type": "stream",
     "text": [
      "<class 'pandas.core.frame.DataFrame'>\n",
      "RangeIndex: 979824 entries, 0 to 979823\n",
      "Data columns (total 44 columns):\n",
      " #   Column                            Non-Null Count   Dtype  \n",
      "---  ------                            --------------   -----  \n",
      " 0   city_name                         979824 non-null  object \n",
      " 1   datetime                          979824 non-null  object \n",
      " 2   temperature_2m                    974481 non-null  float64\n",
      " 3   relative_humidity_2m              974481 non-null  float64\n",
      " 4   dew_point_2m                      974481 non-null  float64\n",
      " 5   apparent_temperature              974481 non-null  float64\n",
      " 6   precipitation                     974481 non-null  float64\n",
      " 7   rain                              974481 non-null  float64\n",
      " 8   snowfall                          974481 non-null  float64\n",
      " 9   snow_depth                        787952 non-null  float64\n",
      " 10  weather_code                      974481 non-null  float64\n",
      " 11  pressure_msl                      974481 non-null  float64\n",
      " 12  surface_pressure                  974481 non-null  float64\n",
      " 13  cloud_cover                       974481 non-null  float64\n",
      " 14  cloud_cover_low                   974481 non-null  float64\n",
      " 15  cloud_cover_mid                   974481 non-null  float64\n",
      " 16  cloud_cover_high                  974481 non-null  float64\n",
      " 17  et0_fao_evapotranspiration        974481 non-null  float64\n",
      " 18  vapour_pressure_deficit           974481 non-null  float64\n",
      " 19  wind_speed_10m                    974481 non-null  float64\n",
      " 20  wind_speed_100m                   974481 non-null  float64\n",
      " 21  wind_direction_10m                974481 non-null  float64\n",
      " 22  wind_direction_100m               974481 non-null  float64\n",
      " 23  wind_gusts_10m                    974481 non-null  float64\n",
      " 24  soil_temperature_0_to_7cm         974481 non-null  float64\n",
      " 25  soil_temperature_7_to_28cm        974481 non-null  float64\n",
      " 26  soil_temperature_28_to_100cm      974481 non-null  float64\n",
      " 27  soil_temperature_100_to_255cm     974481 non-null  float64\n",
      " 28  soil_moisture_0_to_7cm            974481 non-null  float64\n",
      " 29  soil_moisture_7_to_28cm           974481 non-null  float64\n",
      " 30  soil_moisture_28_to_100cm         974481 non-null  float64\n",
      " 31  soil_moisture_100_to_255cm        974481 non-null  float64\n",
      " 32  shortwave_radiation               974481 non-null  float64\n",
      " 33  direct_radiation                  974481 non-null  float64\n",
      " 34  diffuse_radiation                 974481 non-null  float64\n",
      " 35  direct_normal_irradiance          974481 non-null  float64\n",
      " 36  global_tilted_irradiance          974481 non-null  float64\n",
      " 37  terrestrial_radiation             979824 non-null  float64\n",
      " 38  shortwave_radiation_instant       974481 non-null  float64\n",
      " 39  direct_radiation_instant          974481 non-null  float64\n",
      " 40  diffuse_radiation_instant         974481 non-null  float64\n",
      " 41  direct_normal_irradiance_instant  974481 non-null  float64\n",
      " 42  global_tilted_irradiance_instant  974481 non-null  float64\n",
      " 43  terrestrial_radiation_instant     979824 non-null  float64\n",
      "dtypes: float64(42), object(2)\n",
      "memory usage: 328.9+ MB\n"
     ]
    }
   ],
   "source": [
    "df_hourly_2024.info()"
   ]
  },
  {
   "cell_type": "markdown",
   "id": "a5d6e2f5-f4bf-4d2e-a143-c33ecc0efe9c",
   "metadata": {},
   "source": [
    "## Data Preparation"
   ]
  },
  {
   "cell_type": "markdown",
   "id": "df5cd3c4-084b-4d17-a535-eee88a1fb86b",
   "metadata": {},
   "source": [
    "### Check if all the cities match in both dataset."
   ]
  },
  {
   "cell_type": "code",
   "execution_count": 7,
   "id": "7e2d750b-89c1-459c-a489-cf74570b46bf",
   "metadata": {},
   "outputs": [
    {
     "data": {
      "text/plain": [
       "({'Bago City'}, {'Santiago'})"
      ]
     },
     "execution_count": 7,
     "metadata": {},
     "output_type": "execute_result"
    }
   ],
   "source": [
    "cities_2020_2023 = df_hourly_2020_2023.city_name.unique()\n",
    "cities_2024 = df_hourly_2024.city_name.unique()\n",
    "diff_city_2020_2023 = set(cities_2020_2023) - set(cities_2024)\n",
    "diff_city_2024 = set(cities_2024) - set(cities_2020_2023)\n",
    "\n",
    "diff_city_2020_2023, diff_city_2024"
   ]
  },
  {
   "cell_type": "code",
   "execution_count": 8,
   "id": "01a0338f-3024-46dd-9f0b-30d9ef9e3a5b",
   "metadata": {},
   "outputs": [],
   "source": [
    "df_hourly_2020_2023 = df_hourly_2020_2023[df_hourly_2020_2023.city_name != 'Bago City']\n",
    "df_hourly_2024 = df_hourly_2024[df_hourly_2024.city_name != 'Santiago']"
   ]
  },
  {
   "cell_type": "code",
   "execution_count": 9,
   "id": "4de41475-2be3-44cd-a423-33a40f8886a6",
   "metadata": {},
   "outputs": [
    {
     "data": {
      "text/plain": [
       "(set(), set())"
      ]
     },
     "execution_count": 9,
     "metadata": {},
     "output_type": "execute_result"
    }
   ],
   "source": [
    "cities_2020_2023 = df_hourly_2020_2023.city_name.unique()\n",
    "cities_2024 = df_hourly_2024.city_name.unique()\n",
    "diff_city_2020_2023 = set(cities_2020_2023) - set(cities_2024)\n",
    "diff_city_2024 = set(cities_2024) - set(cities_2020_2023)\n",
    "\n",
    "diff_city_2020_2023, diff_city_2024"
   ]
  },
  {
   "cell_type": "markdown",
   "id": "d20d94a7-3afd-4f54-81b2-166b02770a16",
   "metadata": {},
   "source": [
    "### Fix Null Values"
   ]
  },
  {
   "cell_type": "code",
   "execution_count": 10,
   "id": "312bbcac-0288-4649-bbb9-8a6f6652e7bb",
   "metadata": {},
   "outputs": [
    {
     "data": {
      "text/plain": [
       "city_name                                0\n",
       "datetime                                 0\n",
       "temperature_2m                           0\n",
       "relative_humidity_2m                     0\n",
       "dew_point_2m                             0\n",
       "apparent_temperature                     0\n",
       "precipitation                            0\n",
       "rain                                     0\n",
       "snowfall                                 0\n",
       "snow_depth                          596088\n",
       "weather_code                             0\n",
       "pressure_msl                             0\n",
       "surface_pressure                         0\n",
       "cloud_cover                              0\n",
       "cloud_cover_low                          0\n",
       "cloud_cover_mid                          0\n",
       "cloud_cover_high                         0\n",
       "et0_fao_evapotranspiration               0\n",
       "vapour_pressure_deficit                  0\n",
       "wind_speed_10m                           0\n",
       "wind_speed_100m                          0\n",
       "wind_direction_10m                       0\n",
       "wind_direction_100m                      0\n",
       "wind_gusts_10m                           0\n",
       "soil_temperature_0_to_7cm                0\n",
       "soil_temperature_7_to_28cm               0\n",
       "soil_temperature_28_to_100cm             0\n",
       "soil_temperature_100_to_255cm            0\n",
       "soil_moisture_0_to_7cm                   0\n",
       "soil_moisture_7_to_28cm                  0\n",
       "soil_moisture_28_to_100cm                0\n",
       "soil_moisture_100_to_255cm               0\n",
       "shortwave_radiation                      0\n",
       "direct_radiation                         0\n",
       "diffuse_radiation                        0\n",
       "direct_normal_irradiance                 0\n",
       "global_tilted_irradiance                 1\n",
       "terrestrial_radiation                    0\n",
       "shortwave_radiation_instant              0\n",
       "direct_radiation_instant                 0\n",
       "diffuse_radiation_instant                0\n",
       "direct_normal_irradiance_instant         0\n",
       "global_tilted_irradiance_instant         1\n",
       "terrestrial_radiation_instant            0\n",
       "dtype: int64"
      ]
     },
     "execution_count": 10,
     "metadata": {},
     "output_type": "execute_result"
    }
   ],
   "source": [
    "df_hourly_2020_2023.isnull().sum()"
   ]
  },
  {
   "cell_type": "code",
   "execution_count": 11,
   "id": "9690ea8c-ecde-444f-854b-0e9dc9b0219b",
   "metadata": {},
   "outputs": [
    {
     "data": {
      "text/plain": [
       "city_name                                0\n",
       "datetime                                 0\n",
       "temperature_2m                        5304\n",
       "relative_humidity_2m                  5304\n",
       "dew_point_2m                          5304\n",
       "apparent_temperature                  5304\n",
       "precipitation                         5304\n",
       "rain                                  5304\n",
       "snowfall                              5304\n",
       "snow_depth                          191232\n",
       "weather_code                          5304\n",
       "pressure_msl                          5304\n",
       "surface_pressure                      5304\n",
       "cloud_cover                           5304\n",
       "cloud_cover_low                       5304\n",
       "cloud_cover_mid                       5304\n",
       "cloud_cover_high                      5304\n",
       "et0_fao_evapotranspiration            5304\n",
       "vapour_pressure_deficit               5304\n",
       "wind_speed_10m                        5304\n",
       "wind_speed_100m                       5304\n",
       "wind_direction_10m                    5304\n",
       "wind_direction_100m                   5304\n",
       "wind_gusts_10m                        5304\n",
       "soil_temperature_0_to_7cm             5304\n",
       "soil_temperature_7_to_28cm            5304\n",
       "soil_temperature_28_to_100cm          5304\n",
       "soil_temperature_100_to_255cm         5304\n",
       "soil_moisture_0_to_7cm                5304\n",
       "soil_moisture_7_to_28cm               5304\n",
       "soil_moisture_28_to_100cm             5304\n",
       "soil_moisture_100_to_255cm            5304\n",
       "shortwave_radiation                   5304\n",
       "direct_radiation                      5304\n",
       "diffuse_radiation                     5304\n",
       "direct_normal_irradiance              5304\n",
       "global_tilted_irradiance              5304\n",
       "terrestrial_radiation                    0\n",
       "shortwave_radiation_instant           5304\n",
       "direct_radiation_instant              5304\n",
       "diffuse_radiation_instant             5304\n",
       "direct_normal_irradiance_instant      5304\n",
       "global_tilted_irradiance_instant      5304\n",
       "terrestrial_radiation_instant            0\n",
       "dtype: int64"
      ]
     },
     "execution_count": 11,
     "metadata": {},
     "output_type": "execute_result"
    }
   ],
   "source": [
    "df_hourly_2024.isnull().sum()"
   ]
  },
  {
   "cell_type": "code",
   "execution_count": 12,
   "id": "87276941-fdf5-4e86-84ef-7d4f6c73319a",
   "metadata": {},
   "outputs": [
    {
     "data": {
      "text/plain": [
       "array([datetime.date(2024, 10, 23), datetime.date(2024, 10, 24)],\n",
       "      dtype=object)"
      ]
     },
     "execution_count": 12,
     "metadata": {},
     "output_type": "execute_result"
    }
   ],
   "source": [
    "pd.to_datetime(df_hourly_2024[df_hourly_2024.temperature_2m.isnull()].datetime).dt.date.unique()"
   ]
  },
  {
   "cell_type": "code",
   "execution_count": 13,
   "id": "4aee7a7f-8829-4399-9a33-a4de304e8b2e",
   "metadata": {},
   "outputs": [
    {
     "data": {
      "text/plain": [
       "'2024-10-24 23:00:00'"
      ]
     },
     "execution_count": 13,
     "metadata": {},
     "output_type": "execute_result"
    }
   ],
   "source": [
    "df_hourly_2024.datetime.max()"
   ]
  },
  {
   "cell_type": "markdown",
   "id": "35a518a8-0741-46d2-8a7e-6c25c4ea78a3",
   "metadata": {},
   "source": [
    "Since there are too many null values in 10/23/2024 and 10/24/2024, and the max date is at 10/24/2024, these 2 dates will be removed from the dataset of 2024"
   ]
  },
  {
   "cell_type": "code",
   "execution_count": 14,
   "id": "47ca0ed7-8d45-4fe4-9988-d701e0b50c5f",
   "metadata": {},
   "outputs": [],
   "source": [
    "df_hourly_2024 = df_hourly_2024[df_hourly_2024.datetime < '2024-10-23']"
   ]
  },
  {
   "cell_type": "markdown",
   "id": "e4e3ef43-8e8a-4a3d-938a-84a868781a2b",
   "metadata": {},
   "source": [
    "Snow is irrelevant to this country, since this is a tropical country. Therefore, `snowfall` and `snow_depth` values will be replaced to 0."
   ]
  },
  {
   "cell_type": "code",
   "execution_count": 15,
   "id": "4b5a726e-1933-43dd-9262-d7c9654abde3",
   "metadata": {},
   "outputs": [],
   "source": [
    "df_hourly_2020_2023['snowfall'] = 0.0\n",
    "df_hourly_2020_2023['snow_depth'] = 0.0\n",
    "\n",
    "df_hourly_2024['snowfall'] = 0.0\n",
    "df_hourly_2024['snow_depth'] = 0.0"
   ]
  },
  {
   "cell_type": "markdown",
   "id": "e8b17f5f-ce1b-4911-8f74-1122d07f4f3c",
   "metadata": {},
   "source": [
    "Fix null values on 2020-2023 data set."
   ]
  },
  {
   "cell_type": "code",
   "execution_count": 16,
   "id": "1f17e2fa-22af-417e-b17c-41846d81a7cc",
   "metadata": {},
   "outputs": [
    {
     "data": {
      "text/plain": [
       "4896582   2022-08-03 06:00:00\n",
       "Name: datetime, dtype: datetime64[ns]"
      ]
     },
     "execution_count": 16,
     "metadata": {},
     "output_type": "execute_result"
    }
   ],
   "source": [
    "pd.to_datetime(df_hourly_2020_2023[df_hourly_2020_2023.global_tilted_irradiance.isnull()].datetime)"
   ]
  },
  {
   "cell_type": "code",
   "execution_count": 17,
   "id": "04770dd4-fb10-47ff-b279-db988591adfd",
   "metadata": {},
   "outputs": [
    {
     "data": {
      "text/plain": [
       "4896582   2022-08-03 06:00:00\n",
       "Name: datetime, dtype: datetime64[ns]"
      ]
     },
     "execution_count": 17,
     "metadata": {},
     "output_type": "execute_result"
    }
   ],
   "source": [
    "pd.to_datetime(df_hourly_2020_2023[df_hourly_2020_2023.global_tilted_irradiance_instant.isnull()].datetime)"
   ]
  },
  {
   "cell_type": "code",
   "execution_count": 18,
   "id": "902bc56a-74cd-4bab-8f70-b9105f486501",
   "metadata": {},
   "outputs": [
    {
     "data": {
      "text/html": [
       "<div>\n",
       "<style scoped>\n",
       "    .dataframe tbody tr th:only-of-type {\n",
       "        vertical-align: middle;\n",
       "    }\n",
       "\n",
       "    .dataframe tbody tr th {\n",
       "        vertical-align: top;\n",
       "    }\n",
       "\n",
       "    .dataframe thead th {\n",
       "        text-align: right;\n",
       "    }\n",
       "</style>\n",
       "<table border=\"1\" class=\"dataframe\">\n",
       "  <thead>\n",
       "    <tr style=\"text-align: right;\">\n",
       "      <th></th>\n",
       "      <th>city_name</th>\n",
       "      <th>datetime</th>\n",
       "      <th>temperature_2m</th>\n",
       "      <th>relative_humidity_2m</th>\n",
       "      <th>dew_point_2m</th>\n",
       "      <th>apparent_temperature</th>\n",
       "      <th>precipitation</th>\n",
       "      <th>rain</th>\n",
       "      <th>snowfall</th>\n",
       "      <th>snow_depth</th>\n",
       "      <th>...</th>\n",
       "      <th>diffuse_radiation</th>\n",
       "      <th>direct_normal_irradiance</th>\n",
       "      <th>global_tilted_irradiance</th>\n",
       "      <th>terrestrial_radiation</th>\n",
       "      <th>shortwave_radiation_instant</th>\n",
       "      <th>direct_radiation_instant</th>\n",
       "      <th>diffuse_radiation_instant</th>\n",
       "      <th>direct_normal_irradiance_instant</th>\n",
       "      <th>global_tilted_irradiance_instant</th>\n",
       "      <th>terrestrial_radiation_instant</th>\n",
       "    </tr>\n",
       "  </thead>\n",
       "  <tbody>\n",
       "    <tr>\n",
       "      <th>4896582</th>\n",
       "      <td>Vigan</td>\n",
       "      <td>2022-08-03 06:00:00</td>\n",
       "      <td>24.8</td>\n",
       "      <td>94.0</td>\n",
       "      <td>23.9</td>\n",
       "      <td>29.9</td>\n",
       "      <td>1.9</td>\n",
       "      <td>1.9</td>\n",
       "      <td>0.0</td>\n",
       "      <td>0.0</td>\n",
       "      <td>...</td>\n",
       "      <td>2.0</td>\n",
       "      <td>0.0</td>\n",
       "      <td>NaN</td>\n",
       "      <td>38.5</td>\n",
       "      <td>5.0</td>\n",
       "      <td>0.0</td>\n",
       "      <td>5.0</td>\n",
       "      <td>0.0</td>\n",
       "      <td>NaN</td>\n",
       "      <td>96.5</td>\n",
       "    </tr>\n",
       "  </tbody>\n",
       "</table>\n",
       "<p>1 rows × 44 columns</p>\n",
       "</div>"
      ],
      "text/plain": [
       "        city_name             datetime  temperature_2m  relative_humidity_2m  \\\n",
       "4896582     Vigan  2022-08-03 06:00:00            24.8                  94.0   \n",
       "\n",
       "         dew_point_2m  apparent_temperature  precipitation  rain  snowfall  \\\n",
       "4896582          23.9                  29.9            1.9   1.9       0.0   \n",
       "\n",
       "         snow_depth  ...  diffuse_radiation  direct_normal_irradiance  \\\n",
       "4896582         0.0  ...                2.0                       0.0   \n",
       "\n",
       "         global_tilted_irradiance  terrestrial_radiation  \\\n",
       "4896582                       NaN                   38.5   \n",
       "\n",
       "         shortwave_radiation_instant  direct_radiation_instant  \\\n",
       "4896582                          5.0                       0.0   \n",
       "\n",
       "         diffuse_radiation_instant  direct_normal_irradiance_instant  \\\n",
       "4896582                        5.0                               0.0   \n",
       "\n",
       "         global_tilted_irradiance_instant  terrestrial_radiation_instant  \n",
       "4896582                               NaN                           96.5  \n",
       "\n",
       "[1 rows x 44 columns]"
      ]
     },
     "execution_count": 18,
     "metadata": {},
     "output_type": "execute_result"
    }
   ],
   "source": [
    "df_hourly_2020_2023[df_hourly_2020_2023.global_tilted_irradiance.isnull()]"
   ]
  },
  {
   "cell_type": "code",
   "execution_count": 19,
   "id": "7600d51e-cf72-4371-ba34-da230a51a7a7",
   "metadata": {},
   "outputs": [
    {
     "data": {
      "text/plain": [
       "4896576      0.0\n",
       "4896577      0.0\n",
       "4896578      0.0\n",
       "4896579      0.0\n",
       "4896580      0.0\n",
       "4896581      0.0\n",
       "4896582      NaN\n",
       "4896583     50.0\n",
       "4896584     76.0\n",
       "4896585    375.0\n",
       "4896586    386.0\n",
       "4896587    630.0\n",
       "4896588    556.0\n",
       "4896589    710.0\n",
       "4896590    684.0\n",
       "4896591    439.0\n",
       "4896592    362.0\n",
       "4896593    113.0\n",
       "4896594     30.0\n",
       "4896595      6.0\n",
       "4896596      0.0\n",
       "4896597      0.0\n",
       "4896598      0.0\n",
       "4896599      0.0\n",
       "Name: global_tilted_irradiance, dtype: float64"
      ]
     },
     "execution_count": 19,
     "metadata": {},
     "output_type": "execute_result"
    }
   ],
   "source": [
    "df_hourly_2020_2023[(df_hourly_2020_2023.datetime > '2022-08-03 0000:00') & \n",
    "                    (df_hourly_2020_2023.datetime < '2022-08-04 00:00:00') &\n",
    "                    (df_hourly_2020_2023.city_name == 'Vigan')].global_tilted_irradiance"
   ]
  },
  {
   "cell_type": "code",
   "execution_count": 20,
   "id": "c9a46b5d-4602-4138-a8aa-141bfdef2b52",
   "metadata": {},
   "outputs": [
    {
     "data": {
      "text/plain": [
       "4896577      0.0\n",
       "4896578      0.0\n",
       "4896579      0.0\n",
       "4896580      0.0\n",
       "4896581      0.0\n",
       "4896582      NaN\n",
       "4896583     80.7\n",
       "4896584     95.6\n",
       "4896585    430.2\n",
       "4896586    419.9\n",
       "4896587    659.3\n",
       "4896588    563.2\n",
       "4896589    697.0\n",
       "4896590    648.9\n",
       "4896591    399.2\n",
       "4896592    309.2\n",
       "4896593     85.5\n",
       "4896594     14.4\n",
       "4896595      0.0\n",
       "4896596      0.0\n",
       "4896597      0.0\n",
       "4896598      0.0\n",
       "4896599      0.0\n",
       "Name: global_tilted_irradiance_instant, dtype: float64"
      ]
     },
     "execution_count": 20,
     "metadata": {},
     "output_type": "execute_result"
    }
   ],
   "source": [
    "df_hourly_2020_2023[(df_hourly_2020_2023.datetime > '2022-08-03 00:00:00') & \n",
    "                    (df_hourly_2020_2023.datetime < '2022-08-04 00:00:00') &\n",
    "                    (df_hourly_2020_2023.city_name == 'Vigan')].global_tilted_irradiance_instant"
   ]
  },
  {
   "cell_type": "markdown",
   "id": "860d5e6f-7342-49be-9862-6d2ad2a27e97",
   "metadata": {},
   "source": [
    "Fill NA with 0"
   ]
  },
  {
   "cell_type": "code",
   "execution_count": 21,
   "id": "dd15be3d-bace-4add-9f83-fd37431a4345",
   "metadata": {},
   "outputs": [],
   "source": [
    "df_hourly_2020_2023 = df_hourly_2020_2023.fillna(0)"
   ]
  },
  {
   "cell_type": "markdown",
   "id": "7c87b13a-1131-4999-85ec-cb0d120461e8",
   "metadata": {},
   "source": [
    "Recheck Null Values"
   ]
  },
  {
   "cell_type": "code",
   "execution_count": 22,
   "id": "6b927595-ffd7-4590-9150-0133312239fe",
   "metadata": {},
   "outputs": [
    {
     "data": {
      "text/plain": [
       "city_name                           0\n",
       "datetime                            0\n",
       "temperature_2m                      0\n",
       "relative_humidity_2m                0\n",
       "dew_point_2m                        0\n",
       "apparent_temperature                0\n",
       "precipitation                       0\n",
       "rain                                0\n",
       "snowfall                            0\n",
       "snow_depth                          0\n",
       "weather_code                        0\n",
       "pressure_msl                        0\n",
       "surface_pressure                    0\n",
       "cloud_cover                         0\n",
       "cloud_cover_low                     0\n",
       "cloud_cover_mid                     0\n",
       "cloud_cover_high                    0\n",
       "et0_fao_evapotranspiration          0\n",
       "vapour_pressure_deficit             0\n",
       "wind_speed_10m                      0\n",
       "wind_speed_100m                     0\n",
       "wind_direction_10m                  0\n",
       "wind_direction_100m                 0\n",
       "wind_gusts_10m                      0\n",
       "soil_temperature_0_to_7cm           0\n",
       "soil_temperature_7_to_28cm          0\n",
       "soil_temperature_28_to_100cm        0\n",
       "soil_temperature_100_to_255cm       0\n",
       "soil_moisture_0_to_7cm              0\n",
       "soil_moisture_7_to_28cm             0\n",
       "soil_moisture_28_to_100cm           0\n",
       "soil_moisture_100_to_255cm          0\n",
       "shortwave_radiation                 0\n",
       "direct_radiation                    0\n",
       "diffuse_radiation                   0\n",
       "direct_normal_irradiance            0\n",
       "global_tilted_irradiance            0\n",
       "terrestrial_radiation               0\n",
       "shortwave_radiation_instant         0\n",
       "direct_radiation_instant            0\n",
       "diffuse_radiation_instant           0\n",
       "direct_normal_irradiance_instant    0\n",
       "global_tilted_irradiance_instant    0\n",
       "terrestrial_radiation_instant       0\n",
       "dtype: int64"
      ]
     },
     "execution_count": 22,
     "metadata": {},
     "output_type": "execute_result"
    }
   ],
   "source": [
    "df_hourly_2020_2023.isnull().sum()"
   ]
  },
  {
   "cell_type": "code",
   "execution_count": 23,
   "id": "4ec31b0d-adb1-4075-a1c9-cc0485de434f",
   "metadata": {},
   "outputs": [
    {
     "data": {
      "text/plain": [
       "city_name                           0\n",
       "datetime                            0\n",
       "temperature_2m                      0\n",
       "relative_humidity_2m                0\n",
       "dew_point_2m                        0\n",
       "apparent_temperature                0\n",
       "precipitation                       0\n",
       "rain                                0\n",
       "snowfall                            0\n",
       "snow_depth                          0\n",
       "weather_code                        0\n",
       "pressure_msl                        0\n",
       "surface_pressure                    0\n",
       "cloud_cover                         0\n",
       "cloud_cover_low                     0\n",
       "cloud_cover_mid                     0\n",
       "cloud_cover_high                    0\n",
       "et0_fao_evapotranspiration          0\n",
       "vapour_pressure_deficit             0\n",
       "wind_speed_10m                      0\n",
       "wind_speed_100m                     0\n",
       "wind_direction_10m                  0\n",
       "wind_direction_100m                 0\n",
       "wind_gusts_10m                      0\n",
       "soil_temperature_0_to_7cm           0\n",
       "soil_temperature_7_to_28cm          0\n",
       "soil_temperature_28_to_100cm        0\n",
       "soil_temperature_100_to_255cm       0\n",
       "soil_moisture_0_to_7cm              0\n",
       "soil_moisture_7_to_28cm             0\n",
       "soil_moisture_28_to_100cm           0\n",
       "soil_moisture_100_to_255cm          0\n",
       "shortwave_radiation                 0\n",
       "direct_radiation                    0\n",
       "diffuse_radiation                   0\n",
       "direct_normal_irradiance            0\n",
       "global_tilted_irradiance            0\n",
       "terrestrial_radiation               0\n",
       "shortwave_radiation_instant         0\n",
       "direct_radiation_instant            0\n",
       "diffuse_radiation_instant           0\n",
       "direct_normal_irradiance_instant    0\n",
       "global_tilted_irradiance_instant    0\n",
       "terrestrial_radiation_instant       0\n",
       "dtype: int64"
      ]
     },
     "execution_count": 23,
     "metadata": {},
     "output_type": "execute_result"
    }
   ],
   "source": [
    "df_hourly_2024.isnull().sum()"
   ]
  },
  {
   "cell_type": "markdown",
   "id": "d34ca893-f8cd-496b-b7db-a5f4571bf476",
   "metadata": {},
   "source": [
    "### Combine data of 2020-2023 and 2024"
   ]
  },
  {
   "cell_type": "code",
   "execution_count": 24,
   "id": "0d54b71d-2920-48d1-89b9-96d97b9678b6",
   "metadata": {},
   "outputs": [],
   "source": [
    "df_full = pd.concat([df_hourly_2020_2023, df_hourly_2024])"
   ]
  },
  {
   "cell_type": "code",
   "execution_count": 25,
   "id": "9ecd4652-addb-4456-86e2-af83f90afd5e",
   "metadata": {},
   "outputs": [],
   "source": [
    "df_full = df_full.reset_index(drop=True)"
   ]
  },
  {
   "cell_type": "code",
   "execution_count": 26,
   "id": "8ece2b45-0800-489d-a9f4-d413fa0abdff",
   "metadata": {},
   "outputs": [
    {
     "data": {
      "text/html": [
       "<div>\n",
       "<style scoped>\n",
       "    .dataframe tbody tr th:only-of-type {\n",
       "        vertical-align: middle;\n",
       "    }\n",
       "\n",
       "    .dataframe tbody tr th {\n",
       "        vertical-align: top;\n",
       "    }\n",
       "\n",
       "    .dataframe thead th {\n",
       "        text-align: right;\n",
       "    }\n",
       "</style>\n",
       "<table border=\"1\" class=\"dataframe\">\n",
       "  <thead>\n",
       "    <tr style=\"text-align: right;\">\n",
       "      <th></th>\n",
       "      <th>city_name</th>\n",
       "      <th>datetime</th>\n",
       "      <th>temperature_2m</th>\n",
       "      <th>relative_humidity_2m</th>\n",
       "      <th>dew_point_2m</th>\n",
       "      <th>apparent_temperature</th>\n",
       "      <th>precipitation</th>\n",
       "      <th>rain</th>\n",
       "      <th>snowfall</th>\n",
       "      <th>snow_depth</th>\n",
       "      <th>...</th>\n",
       "      <th>diffuse_radiation</th>\n",
       "      <th>direct_normal_irradiance</th>\n",
       "      <th>global_tilted_irradiance</th>\n",
       "      <th>terrestrial_radiation</th>\n",
       "      <th>shortwave_radiation_instant</th>\n",
       "      <th>direct_radiation_instant</th>\n",
       "      <th>diffuse_radiation_instant</th>\n",
       "      <th>direct_normal_irradiance_instant</th>\n",
       "      <th>global_tilted_irradiance_instant</th>\n",
       "      <th>terrestrial_radiation_instant</th>\n",
       "    </tr>\n",
       "  </thead>\n",
       "  <tbody>\n",
       "    <tr>\n",
       "      <th>0</th>\n",
       "      <td>Alaminos</td>\n",
       "      <td>2020-01-01 00:00:00</td>\n",
       "      <td>24.8</td>\n",
       "      <td>82.0</td>\n",
       "      <td>21.6</td>\n",
       "      <td>28.3</td>\n",
       "      <td>0.0</td>\n",
       "      <td>0.0</td>\n",
       "      <td>0.0</td>\n",
       "      <td>0.0</td>\n",
       "      <td>...</td>\n",
       "      <td>0.0</td>\n",
       "      <td>0.0</td>\n",
       "      <td>0.0</td>\n",
       "      <td>0.0</td>\n",
       "      <td>0.0</td>\n",
       "      <td>0.0</td>\n",
       "      <td>0.0</td>\n",
       "      <td>0.0</td>\n",
       "      <td>0.0</td>\n",
       "      <td>0.0</td>\n",
       "    </tr>\n",
       "    <tr>\n",
       "      <th>1</th>\n",
       "      <td>Alaminos</td>\n",
       "      <td>2020-01-01 01:00:00</td>\n",
       "      <td>23.8</td>\n",
       "      <td>81.0</td>\n",
       "      <td>20.3</td>\n",
       "      <td>26.3</td>\n",
       "      <td>0.0</td>\n",
       "      <td>0.0</td>\n",
       "      <td>0.0</td>\n",
       "      <td>0.0</td>\n",
       "      <td>...</td>\n",
       "      <td>0.0</td>\n",
       "      <td>0.0</td>\n",
       "      <td>0.0</td>\n",
       "      <td>0.0</td>\n",
       "      <td>0.0</td>\n",
       "      <td>0.0</td>\n",
       "      <td>0.0</td>\n",
       "      <td>0.0</td>\n",
       "      <td>0.0</td>\n",
       "      <td>0.0</td>\n",
       "    </tr>\n",
       "    <tr>\n",
       "      <th>2</th>\n",
       "      <td>Alaminos</td>\n",
       "      <td>2020-01-01 02:00:00</td>\n",
       "      <td>23.3</td>\n",
       "      <td>81.0</td>\n",
       "      <td>19.8</td>\n",
       "      <td>25.4</td>\n",
       "      <td>0.0</td>\n",
       "      <td>0.0</td>\n",
       "      <td>0.0</td>\n",
       "      <td>0.0</td>\n",
       "      <td>...</td>\n",
       "      <td>0.0</td>\n",
       "      <td>0.0</td>\n",
       "      <td>0.0</td>\n",
       "      <td>0.0</td>\n",
       "      <td>0.0</td>\n",
       "      <td>0.0</td>\n",
       "      <td>0.0</td>\n",
       "      <td>0.0</td>\n",
       "      <td>0.0</td>\n",
       "      <td>0.0</td>\n",
       "    </tr>\n",
       "    <tr>\n",
       "      <th>3</th>\n",
       "      <td>Alaminos</td>\n",
       "      <td>2020-01-01 03:00:00</td>\n",
       "      <td>23.3</td>\n",
       "      <td>80.0</td>\n",
       "      <td>19.7</td>\n",
       "      <td>25.3</td>\n",
       "      <td>0.0</td>\n",
       "      <td>0.0</td>\n",
       "      <td>0.0</td>\n",
       "      <td>0.0</td>\n",
       "      <td>...</td>\n",
       "      <td>0.0</td>\n",
       "      <td>0.0</td>\n",
       "      <td>0.0</td>\n",
       "      <td>0.0</td>\n",
       "      <td>0.0</td>\n",
       "      <td>0.0</td>\n",
       "      <td>0.0</td>\n",
       "      <td>0.0</td>\n",
       "      <td>0.0</td>\n",
       "      <td>0.0</td>\n",
       "    </tr>\n",
       "    <tr>\n",
       "      <th>4</th>\n",
       "      <td>Alaminos</td>\n",
       "      <td>2020-01-01 04:00:00</td>\n",
       "      <td>23.1</td>\n",
       "      <td>80.0</td>\n",
       "      <td>19.5</td>\n",
       "      <td>25.1</td>\n",
       "      <td>0.0</td>\n",
       "      <td>0.0</td>\n",
       "      <td>0.0</td>\n",
       "      <td>0.0</td>\n",
       "      <td>...</td>\n",
       "      <td>0.0</td>\n",
       "      <td>0.0</td>\n",
       "      <td>0.0</td>\n",
       "      <td>0.0</td>\n",
       "      <td>0.0</td>\n",
       "      <td>0.0</td>\n",
       "      <td>0.0</td>\n",
       "      <td>0.0</td>\n",
       "      <td>0.0</td>\n",
       "      <td>0.0</td>\n",
       "    </tr>\n",
       "    <tr>\n",
       "      <th>...</th>\n",
       "      <td>...</td>\n",
       "      <td>...</td>\n",
       "      <td>...</td>\n",
       "      <td>...</td>\n",
       "      <td>...</td>\n",
       "      <td>...</td>\n",
       "      <td>...</td>\n",
       "      <td>...</td>\n",
       "      <td>...</td>\n",
       "      <td>...</td>\n",
       "      <td>...</td>\n",
       "      <td>...</td>\n",
       "      <td>...</td>\n",
       "      <td>...</td>\n",
       "      <td>...</td>\n",
       "      <td>...</td>\n",
       "      <td>...</td>\n",
       "      <td>...</td>\n",
       "      <td>...</td>\n",
       "      <td>...</td>\n",
       "      <td>...</td>\n",
       "    </tr>\n",
       "    <tr>\n",
       "      <th>5875099</th>\n",
       "      <td>Zamboanga City</td>\n",
       "      <td>2024-10-22 19:00:00</td>\n",
       "      <td>27.5</td>\n",
       "      <td>80.0</td>\n",
       "      <td>23.7</td>\n",
       "      <td>30.2</td>\n",
       "      <td>0.0</td>\n",
       "      <td>0.0</td>\n",
       "      <td>0.0</td>\n",
       "      <td>0.0</td>\n",
       "      <td>...</td>\n",
       "      <td>0.0</td>\n",
       "      <td>0.0</td>\n",
       "      <td>0.0</td>\n",
       "      <td>0.0</td>\n",
       "      <td>0.0</td>\n",
       "      <td>0.0</td>\n",
       "      <td>0.0</td>\n",
       "      <td>0.0</td>\n",
       "      <td>0.0</td>\n",
       "      <td>0.0</td>\n",
       "    </tr>\n",
       "    <tr>\n",
       "      <th>5875100</th>\n",
       "      <td>Zamboanga City</td>\n",
       "      <td>2024-10-22 20:00:00</td>\n",
       "      <td>27.5</td>\n",
       "      <td>82.0</td>\n",
       "      <td>24.2</td>\n",
       "      <td>30.3</td>\n",
       "      <td>0.0</td>\n",
       "      <td>0.0</td>\n",
       "      <td>0.0</td>\n",
       "      <td>0.0</td>\n",
       "      <td>...</td>\n",
       "      <td>0.0</td>\n",
       "      <td>0.0</td>\n",
       "      <td>0.0</td>\n",
       "      <td>0.0</td>\n",
       "      <td>0.0</td>\n",
       "      <td>0.0</td>\n",
       "      <td>0.0</td>\n",
       "      <td>0.0</td>\n",
       "      <td>0.0</td>\n",
       "      <td>0.0</td>\n",
       "    </tr>\n",
       "    <tr>\n",
       "      <th>5875101</th>\n",
       "      <td>Zamboanga City</td>\n",
       "      <td>2024-10-22 21:00:00</td>\n",
       "      <td>27.8</td>\n",
       "      <td>77.0</td>\n",
       "      <td>23.5</td>\n",
       "      <td>30.3</td>\n",
       "      <td>0.0</td>\n",
       "      <td>0.0</td>\n",
       "      <td>0.0</td>\n",
       "      <td>0.0</td>\n",
       "      <td>...</td>\n",
       "      <td>0.0</td>\n",
       "      <td>0.0</td>\n",
       "      <td>0.0</td>\n",
       "      <td>0.0</td>\n",
       "      <td>0.0</td>\n",
       "      <td>0.0</td>\n",
       "      <td>0.0</td>\n",
       "      <td>0.0</td>\n",
       "      <td>0.0</td>\n",
       "      <td>0.0</td>\n",
       "    </tr>\n",
       "    <tr>\n",
       "      <th>5875102</th>\n",
       "      <td>Zamboanga City</td>\n",
       "      <td>2024-10-22 22:00:00</td>\n",
       "      <td>27.8</td>\n",
       "      <td>77.0</td>\n",
       "      <td>23.3</td>\n",
       "      <td>30.2</td>\n",
       "      <td>0.0</td>\n",
       "      <td>0.0</td>\n",
       "      <td>0.0</td>\n",
       "      <td>0.0</td>\n",
       "      <td>...</td>\n",
       "      <td>0.0</td>\n",
       "      <td>0.0</td>\n",
       "      <td>0.0</td>\n",
       "      <td>0.0</td>\n",
       "      <td>0.0</td>\n",
       "      <td>0.0</td>\n",
       "      <td>0.0</td>\n",
       "      <td>0.0</td>\n",
       "      <td>0.0</td>\n",
       "      <td>0.0</td>\n",
       "    </tr>\n",
       "    <tr>\n",
       "      <th>5875103</th>\n",
       "      <td>Zamboanga City</td>\n",
       "      <td>2024-10-22 23:00:00</td>\n",
       "      <td>25.5</td>\n",
       "      <td>90.0</td>\n",
       "      <td>23.7</td>\n",
       "      <td>28.1</td>\n",
       "      <td>0.0</td>\n",
       "      <td>0.0</td>\n",
       "      <td>0.0</td>\n",
       "      <td>0.0</td>\n",
       "      <td>...</td>\n",
       "      <td>0.0</td>\n",
       "      <td>0.0</td>\n",
       "      <td>0.0</td>\n",
       "      <td>0.0</td>\n",
       "      <td>0.0</td>\n",
       "      <td>0.0</td>\n",
       "      <td>0.0</td>\n",
       "      <td>0.0</td>\n",
       "      <td>0.0</td>\n",
       "      <td>0.0</td>\n",
       "    </tr>\n",
       "  </tbody>\n",
       "</table>\n",
       "<p>5875104 rows × 44 columns</p>\n",
       "</div>"
      ],
      "text/plain": [
       "              city_name             datetime  temperature_2m  \\\n",
       "0              Alaminos  2020-01-01 00:00:00            24.8   \n",
       "1              Alaminos  2020-01-01 01:00:00            23.8   \n",
       "2              Alaminos  2020-01-01 02:00:00            23.3   \n",
       "3              Alaminos  2020-01-01 03:00:00            23.3   \n",
       "4              Alaminos  2020-01-01 04:00:00            23.1   \n",
       "...                 ...                  ...             ...   \n",
       "5875099  Zamboanga City  2024-10-22 19:00:00            27.5   \n",
       "5875100  Zamboanga City  2024-10-22 20:00:00            27.5   \n",
       "5875101  Zamboanga City  2024-10-22 21:00:00            27.8   \n",
       "5875102  Zamboanga City  2024-10-22 22:00:00            27.8   \n",
       "5875103  Zamboanga City  2024-10-22 23:00:00            25.5   \n",
       "\n",
       "         relative_humidity_2m  dew_point_2m  apparent_temperature  \\\n",
       "0                        82.0          21.6                  28.3   \n",
       "1                        81.0          20.3                  26.3   \n",
       "2                        81.0          19.8                  25.4   \n",
       "3                        80.0          19.7                  25.3   \n",
       "4                        80.0          19.5                  25.1   \n",
       "...                       ...           ...                   ...   \n",
       "5875099                  80.0          23.7                  30.2   \n",
       "5875100                  82.0          24.2                  30.3   \n",
       "5875101                  77.0          23.5                  30.3   \n",
       "5875102                  77.0          23.3                  30.2   \n",
       "5875103                  90.0          23.7                  28.1   \n",
       "\n",
       "         precipitation  rain  snowfall  snow_depth  ...  diffuse_radiation  \\\n",
       "0                  0.0   0.0       0.0         0.0  ...                0.0   \n",
       "1                  0.0   0.0       0.0         0.0  ...                0.0   \n",
       "2                  0.0   0.0       0.0         0.0  ...                0.0   \n",
       "3                  0.0   0.0       0.0         0.0  ...                0.0   \n",
       "4                  0.0   0.0       0.0         0.0  ...                0.0   \n",
       "...                ...   ...       ...         ...  ...                ...   \n",
       "5875099            0.0   0.0       0.0         0.0  ...                0.0   \n",
       "5875100            0.0   0.0       0.0         0.0  ...                0.0   \n",
       "5875101            0.0   0.0       0.0         0.0  ...                0.0   \n",
       "5875102            0.0   0.0       0.0         0.0  ...                0.0   \n",
       "5875103            0.0   0.0       0.0         0.0  ...                0.0   \n",
       "\n",
       "         direct_normal_irradiance  global_tilted_irradiance  \\\n",
       "0                             0.0                       0.0   \n",
       "1                             0.0                       0.0   \n",
       "2                             0.0                       0.0   \n",
       "3                             0.0                       0.0   \n",
       "4                             0.0                       0.0   \n",
       "...                           ...                       ...   \n",
       "5875099                       0.0                       0.0   \n",
       "5875100                       0.0                       0.0   \n",
       "5875101                       0.0                       0.0   \n",
       "5875102                       0.0                       0.0   \n",
       "5875103                       0.0                       0.0   \n",
       "\n",
       "         terrestrial_radiation  shortwave_radiation_instant  \\\n",
       "0                          0.0                          0.0   \n",
       "1                          0.0                          0.0   \n",
       "2                          0.0                          0.0   \n",
       "3                          0.0                          0.0   \n",
       "4                          0.0                          0.0   \n",
       "...                        ...                          ...   \n",
       "5875099                    0.0                          0.0   \n",
       "5875100                    0.0                          0.0   \n",
       "5875101                    0.0                          0.0   \n",
       "5875102                    0.0                          0.0   \n",
       "5875103                    0.0                          0.0   \n",
       "\n",
       "         direct_radiation_instant  diffuse_radiation_instant  \\\n",
       "0                             0.0                        0.0   \n",
       "1                             0.0                        0.0   \n",
       "2                             0.0                        0.0   \n",
       "3                             0.0                        0.0   \n",
       "4                             0.0                        0.0   \n",
       "...                           ...                        ...   \n",
       "5875099                       0.0                        0.0   \n",
       "5875100                       0.0                        0.0   \n",
       "5875101                       0.0                        0.0   \n",
       "5875102                       0.0                        0.0   \n",
       "5875103                       0.0                        0.0   \n",
       "\n",
       "         direct_normal_irradiance_instant  global_tilted_irradiance_instant  \\\n",
       "0                                     0.0                               0.0   \n",
       "1                                     0.0                               0.0   \n",
       "2                                     0.0                               0.0   \n",
       "3                                     0.0                               0.0   \n",
       "4                                     0.0                               0.0   \n",
       "...                                   ...                               ...   \n",
       "5875099                               0.0                               0.0   \n",
       "5875100                               0.0                               0.0   \n",
       "5875101                               0.0                               0.0   \n",
       "5875102                               0.0                               0.0   \n",
       "5875103                               0.0                               0.0   \n",
       "\n",
       "         terrestrial_radiation_instant  \n",
       "0                                  0.0  \n",
       "1                                  0.0  \n",
       "2                                  0.0  \n",
       "3                                  0.0  \n",
       "4                                  0.0  \n",
       "...                                ...  \n",
       "5875099                            0.0  \n",
       "5875100                            0.0  \n",
       "5875101                            0.0  \n",
       "5875102                            0.0  \n",
       "5875103                            0.0  \n",
       "\n",
       "[5875104 rows x 44 columns]"
      ]
     },
     "execution_count": 26,
     "metadata": {},
     "output_type": "execute_result"
    }
   ],
   "source": [
    "df_full"
   ]
  },
  {
   "cell_type": "code",
   "execution_count": null,
   "id": "db97f887-ac58-478e-8ede-2ca91ca0a0a9",
   "metadata": {},
   "outputs": [],
   "source": []
  }
 ],
 "metadata": {
  "kernelspec": {
   "display_name": "Python 3",
   "language": "python",
   "name": "python3"
  },
  "language_info": {
   "codemirror_mode": {
    "name": "ipython",
    "version": 3
   },
   "file_extension": ".py",
   "mimetype": "text/x-python",
   "name": "python",
   "nbconvert_exporter": "python",
   "pygments_lexer": "ipython3",
   "version": "3.11.10"
  }
 },
 "nbformat": 4,
 "nbformat_minor": 5
}
