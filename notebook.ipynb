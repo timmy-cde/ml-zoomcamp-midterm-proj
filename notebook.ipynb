{
 "cells": [
  {
   "cell_type": "markdown",
   "id": "f649c0f2-b2dd-480a-b99f-253c165eadee",
   "metadata": {},
   "source": [
    "# Philippine Cities Temperature Prediction"
   ]
  },
  {
   "cell_type": "markdown",
   "id": "51b704bd-2919-494c-9aa2-390f28e21ed7",
   "metadata": {},
   "source": [
    "This will predict hourly temperature for 135 Philippine cities. The data set is from 2020 to 2024.\n",
    "\n",
    "Due to file size, I stored the datasets in google drive as a backup.\n",
    "\n",
    "Original Source:\n",
    "- [Philippine Cities Weather Data (2024)](https://www.kaggle.com/datasets/bwandowando/philippine-cities-weather-data-ytd-2024)\n",
    "- [Philippine Cities Weather Data (2020-2023)](https://www.kaggle.com/datasets/bwandowando/philippine-cities-weather-data-2020-2023)\n",
    "\n",
    "Google Drive Links:\n",
    "- [Philippine Cities Weather Data (2024)](https://drive.google.com/file/d/10wxJ3x6NKIGQCL5xpngcgbja6M7hvqJf/view?usp=drive_link)\n",
    "- [Philippine Cities Weather Data (2020-2023)](https://drive.google.com/file/d/1cwdqQC3Idr7rfCS2AMbROv3be0eZ0SIB/view?usp=drive_link)"
   ]
  },
  {
   "cell_type": "code",
   "execution_count": null,
   "id": "76e0638b-4190-4c93-b6fe-88210695fce2",
   "metadata": {},
   "outputs": [],
   "source": [
    "import pandas as pd\n",
    "import numpy as np\n",
    "\n",
    "import seaborn as sns\n",
    "from matplotlib import  pyplot as plt"
   ]
  },
  {
   "cell_type": "code",
   "execution_count": null,
   "id": "62cf12a2",
   "metadata": {},
   "outputs": [],
   "source": [
    "!curl -L -o './data/Philippine_Cities_Weather_Data_(2024).zip' 'https://www.kaggle.com/api/v1/datasets/download/bwandowando/philippine-cities-weather-data-ytd-2024'\n",
    "\n",
    "!curl -L -o './data/Philippine_Cities_Weather_Data_(2020-2023).zip' 'https://www.kaggle.com/api/v1/datasets/download/bwandowando/philippine-cities-weather-data-2020-2023'"
   ]
  },
  {
   "cell_type": "code",
   "execution_count": null,
   "id": "562e40bd",
   "metadata": {},
   "outputs": [],
   "source": [
    "!unzip './data/Philippine_Cities_Weather_Data_(2024).zip' -d './data/2024'\n",
    "!unzip './data/Philippine_Cities_Weather_Data_(2020-2023).zip' -d './data/2020-2023'"
   ]
  },
  {
   "cell_type": "code",
   "execution_count": null,
   "id": "96a75b49-8d3c-4a25-bdb8-b73bd5030b17",
   "metadata": {},
   "outputs": [],
   "source": [
    "df_hourly_2020_2023 = pd.read_csv('data/2020-2023/hourly_data_combined_2020_to_2023.csv')\n",
    "df_hourly_2024 = pd.read_csv('data/2024/hourly_data_combined_2024.csv')"
   ]
  },
  {
   "cell_type": "code",
   "execution_count": null,
   "id": "a76cf114-0989-41ed-a8a6-a6e427c52e2b",
   "metadata": {},
   "outputs": [],
   "source": [
    "df_hourly_2020_2023.info()"
   ]
  },
  {
   "cell_type": "code",
   "execution_count": null,
   "id": "55605b44-716b-45e1-9a2d-3ef61ecec66e",
   "metadata": {},
   "outputs": [],
   "source": [
    "df_hourly_2024.info()"
   ]
  },
  {
   "cell_type": "markdown",
   "id": "a5d6e2f5-f4bf-4d2e-a143-c33ecc0efe9c",
   "metadata": {},
   "source": [
    "## Data Preparation"
   ]
  },
  {
   "cell_type": "markdown",
   "id": "df5cd3c4-084b-4d17-a535-eee88a1fb86b",
   "metadata": {},
   "source": [
    "### Check if all the cities match in both dataset."
   ]
  },
  {
   "cell_type": "code",
   "execution_count": null,
   "id": "7e2d750b-89c1-459c-a489-cf74570b46bf",
   "metadata": {},
   "outputs": [],
   "source": [
    "cities_2020_2023 = df_hourly_2020_2023.city_name.unique()\n",
    "cities_2024 = df_hourly_2024.city_name.unique()\n",
    "diff_city_2020_2023 = set(cities_2020_2023) - set(cities_2024)\n",
    "diff_city_2024 = set(cities_2024) - set(cities_2020_2023)\n",
    "\n",
    "diff_city_2020_2023, diff_city_2024"
   ]
  },
  {
   "cell_type": "code",
   "execution_count": null,
   "id": "01a0338f-3024-46dd-9f0b-30d9ef9e3a5b",
   "metadata": {},
   "outputs": [],
   "source": [
    "df_hourly_2020_2023 = df_hourly_2020_2023[df_hourly_2020_2023.city_name != 'Bago City']\n",
    "df_hourly_2024 = df_hourly_2024[df_hourly_2024.city_name != 'Santiago']"
   ]
  },
  {
   "cell_type": "code",
   "execution_count": null,
   "id": "4de41475-2be3-44cd-a423-33a40f8886a6",
   "metadata": {},
   "outputs": [],
   "source": [
    "cities_2020_2023 = df_hourly_2020_2023.city_name.unique()\n",
    "cities_2024 = df_hourly_2024.city_name.unique()\n",
    "diff_city_2020_2023 = set(cities_2020_2023) - set(cities_2024)\n",
    "diff_city_2024 = set(cities_2024) - set(cities_2020_2023)\n",
    "\n",
    "diff_city_2020_2023, diff_city_2024"
   ]
  },
  {
   "cell_type": "markdown",
   "id": "d20d94a7-3afd-4f54-81b2-166b02770a16",
   "metadata": {},
   "source": [
    "### Fix Null Values"
   ]
  },
  {
   "cell_type": "code",
   "execution_count": null,
   "id": "312bbcac-0288-4649-bbb9-8a6f6652e7bb",
   "metadata": {},
   "outputs": [],
   "source": [
    "df_hourly_2020_2023.isnull().sum()"
   ]
  },
  {
   "cell_type": "code",
   "execution_count": null,
   "id": "9690ea8c-ecde-444f-854b-0e9dc9b0219b",
   "metadata": {},
   "outputs": [],
   "source": [
    "df_hourly_2024.isnull().sum()"
   ]
  },
  {
   "cell_type": "code",
   "execution_count": null,
   "id": "87276941-fdf5-4e86-84ef-7d4f6c73319a",
   "metadata": {},
   "outputs": [],
   "source": [
    "pd.to_datetime(df_hourly_2024[df_hourly_2024.temperature_2m.isnull()].datetime).dt.date.unique()"
   ]
  },
  {
   "cell_type": "code",
   "execution_count": null,
   "id": "4aee7a7f-8829-4399-9a33-a4de304e8b2e",
   "metadata": {},
   "outputs": [],
   "source": [
    "df_hourly_2024.datetime.max()"
   ]
  },
  {
   "cell_type": "markdown",
   "id": "35a518a8-0741-46d2-8a7e-6c25c4ea78a3",
   "metadata": {},
   "source": [
    "Since there are too many null values in 10/23/2024 and 10/24/2024, and the max date is at 10/24/2024, these 2 dates will be removed from the dataset of 2024"
   ]
  },
  {
   "cell_type": "code",
   "execution_count": null,
   "id": "47ca0ed7-8d45-4fe4-9988-d701e0b50c5f",
   "metadata": {},
   "outputs": [],
   "source": [
    "df_hourly_2024 = df_hourly_2024[df_hourly_2024.datetime < '2024-10-23']"
   ]
  },
  {
   "cell_type": "markdown",
   "id": "e4e3ef43-8e8a-4a3d-938a-84a868781a2b",
   "metadata": {},
   "source": [
    "Snow is irrelevant to this country, since this is a tropical country. Therefore, `snowfall` and `snow_depth` values will be replaced to 0."
   ]
  },
  {
   "cell_type": "code",
   "execution_count": null,
   "id": "4b5a726e-1933-43dd-9262-d7c9654abde3",
   "metadata": {},
   "outputs": [],
   "source": [
    "df_hourly_2020_2023['snowfall'] = 0.0\n",
    "df_hourly_2020_2023['snow_depth'] = 0.0\n",
    "\n",
    "df_hourly_2024['snowfall'] = 0.0\n",
    "df_hourly_2024['snow_depth'] = 0.0"
   ]
  },
  {
   "cell_type": "markdown",
   "id": "e8b17f5f-ce1b-4911-8f74-1122d07f4f3c",
   "metadata": {},
   "source": [
    "Fix null values on 2020-2023 data set."
   ]
  },
  {
   "cell_type": "code",
   "execution_count": null,
   "id": "1f17e2fa-22af-417e-b17c-41846d81a7cc",
   "metadata": {},
   "outputs": [],
   "source": [
    "pd.to_datetime(df_hourly_2020_2023[df_hourly_2020_2023.global_tilted_irradiance.isnull()].datetime)"
   ]
  },
  {
   "cell_type": "code",
   "execution_count": null,
   "id": "04770dd4-fb10-47ff-b279-db988591adfd",
   "metadata": {},
   "outputs": [],
   "source": [
    "pd.to_datetime(df_hourly_2020_2023[df_hourly_2020_2023.global_tilted_irradiance_instant.isnull()].datetime)"
   ]
  },
  {
   "cell_type": "code",
   "execution_count": null,
   "id": "902bc56a-74cd-4bab-8f70-b9105f486501",
   "metadata": {},
   "outputs": [],
   "source": [
    "df_hourly_2020_2023[df_hourly_2020_2023.global_tilted_irradiance.isnull()]"
   ]
  },
  {
   "cell_type": "code",
   "execution_count": null,
   "id": "7600d51e-cf72-4371-ba34-da230a51a7a7",
   "metadata": {},
   "outputs": [],
   "source": [
    "df_hourly_2020_2023[(df_hourly_2020_2023.datetime > '2022-08-03 0000:00') & \n",
    "                    (df_hourly_2020_2023.datetime < '2022-08-04 00:00:00') &\n",
    "                    (df_hourly_2020_2023.city_name == 'Vigan')].global_tilted_irradiance"
   ]
  },
  {
   "cell_type": "code",
   "execution_count": null,
   "id": "c9a46b5d-4602-4138-a8aa-141bfdef2b52",
   "metadata": {},
   "outputs": [],
   "source": [
    "df_hourly_2020_2023[(df_hourly_2020_2023.datetime > '2022-08-03 00:00:00') & \n",
    "                    (df_hourly_2020_2023.datetime < '2022-08-04 00:00:00') &\n",
    "                    (df_hourly_2020_2023.city_name == 'Vigan')].global_tilted_irradiance_instant"
   ]
  },
  {
   "cell_type": "markdown",
   "id": "860d5e6f-7342-49be-9862-6d2ad2a27e97",
   "metadata": {},
   "source": [
    "Fill NA with 0"
   ]
  },
  {
   "cell_type": "code",
   "execution_count": null,
   "id": "dd15be3d-bace-4add-9f83-fd37431a4345",
   "metadata": {},
   "outputs": [],
   "source": [
    "df_hourly_2020_2023 = df_hourly_2020_2023.fillna(0)"
   ]
  },
  {
   "cell_type": "markdown",
   "id": "7c87b13a-1131-4999-85ec-cb0d120461e8",
   "metadata": {},
   "source": [
    "Recheck Null Values"
   ]
  },
  {
   "cell_type": "code",
   "execution_count": null,
   "id": "6b927595-ffd7-4590-9150-0133312239fe",
   "metadata": {},
   "outputs": [],
   "source": [
    "df_hourly_2020_2023.isnull().sum()"
   ]
  },
  {
   "cell_type": "code",
   "execution_count": null,
   "id": "4ec31b0d-adb1-4075-a1c9-cc0485de434f",
   "metadata": {},
   "outputs": [],
   "source": [
    "df_hourly_2024.isnull().sum()"
   ]
  },
  {
   "cell_type": "markdown",
   "id": "d34ca893-f8cd-496b-b7db-a5f4571bf476",
   "metadata": {},
   "source": [
    "### Combine data of 2020-2023 and 2024"
   ]
  },
  {
   "cell_type": "code",
   "execution_count": null,
   "id": "0d54b71d-2920-48d1-89b9-96d97b9678b6",
   "metadata": {},
   "outputs": [],
   "source": [
    "df_full = pd.concat([df_hourly_2020_2023, df_hourly_2024])"
   ]
  },
  {
   "cell_type": "code",
   "execution_count": null,
   "id": "9ecd4652-addb-4456-86e2-af83f90afd5e",
   "metadata": {},
   "outputs": [],
   "source": [
    "df_full = df_full.reset_index(drop=True)"
   ]
  },
  {
   "cell_type": "code",
   "execution_count": null,
   "id": "8ece2b45-0800-489d-a9f4-d413fa0abdff",
   "metadata": {},
   "outputs": [],
   "source": [
    "df_full"
   ]
  },
  {
   "cell_type": "code",
   "execution_count": null,
   "id": "db97f887-ac58-478e-8ede-2ca91ca0a0a9",
   "metadata": {},
   "outputs": [],
   "source": []
  }
 ],
 "metadata": {
  "kernelspec": {
   "display_name": "ml-zoomcamp-midterm-proj-Xkq_uO4x",
   "language": "python",
   "name": "python3"
  },
  "language_info": {
   "codemirror_mode": {
    "name": "ipython",
    "version": 3
   },
   "file_extension": ".py",
   "mimetype": "text/x-python",
   "name": "python",
   "nbconvert_exporter": "python",
   "pygments_lexer": "ipython3",
   "version": "3.11.0"
  }
 },
 "nbformat": 4,
 "nbformat_minor": 5
}
